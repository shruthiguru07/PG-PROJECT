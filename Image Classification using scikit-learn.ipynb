{
 "cells": [
  {
   "cell_type": "markdown",
   "metadata": {},
   "source": [
    "# Image Classification using `sklearn.svm`"
   ]
  },
  {
   "attachments": {},
   "cell_type": "markdown",
   "metadata": {},
   "source": [
    "### Importing Necessary packages"
   ]
  },
  {
   "cell_type": "code",
   "execution_count": 3,
   "metadata": {},
   "outputs": [],
   "source": [
    "from pathlib import Path\n",
    "import matplotlib.pyplot as plt\n",
    "import numpy as np\n",
    "from sklearn import svm, metrics\n",
    "from sklearn.utils import Bunch\n",
    "from sklearn.model_selection import GridSearchCV, train_test_split\n",
    "from sklearn.preprocessing import StandardScaler\n",
    "from skimage.io import imread\n",
    "from skimage.transform import resize\n",
    "from skimage.color import rgb2gray\n",
    "from sklearn import metrics\n",
    "from sklearn.decomposition import PCA\n"
   ]
  },
  {
   "attachments": {},
   "cell_type": "markdown",
   "metadata": {},
   "source": [
    "### Load images in structured directory"
   ]
  },
  {
   "cell_type": "code",
   "execution_count": 4,
   "metadata": {},
   "outputs": [],
   "source": [
    "def load_image_files(container_path, dimension=(64, 64)):\n",
    "\n",
    "    image_dir = Path(container_path)\n",
    "    folders = [directory for directory in image_dir.iterdir() if directory.is_dir()]\n",
    "    categories = [fo.name for fo in folders]\n",
    "\n",
    "    descr = \"A Braille image classification dataset\"\n",
    "    images = []\n",
    "    flat_data = []\n",
    "    target = []\n",
    "    for i, direc in enumerate(folders):\n",
    "        for file in direc.iterdir():\n",
    "            img = imread(file)\n",
    "            imgray= rgb2gray(img)\n",
    "            img_resized = resize(imgray, dimension, anti_aliasing=True, mode='reflect')\n",
    "            flat_data.append(img_resized.flatten()) \n",
    "            images.append(img_resized)\n",
    "            target.append(i)\n",
    "    flat_data = np.array(flat_data)\n",
    "    target = np.array(target)\n",
    "    images = np.array(images)\n",
    "\n",
    "    return Bunch(data=flat_data,\n",
    "                 target=target,\n",
    "                 target_names=categories,\n",
    "                 images=images,\n",
    "                 DESCR=descr)"
   ]
  },
  {
   "cell_type": "code",
   "execution_count": 5,
   "metadata": {
    "scrolled": true
   },
   "outputs": [
    {
     "name": "stdout",
     "output_type": "stream",
     "text": [
      "{'data': array([[0.9999999 , 0.99999991, 0.99999999, ..., 1.        , 1.        ,\n",
      "        1.        ],\n",
      "       [0.9999999 , 0.99999991, 0.99999999, ..., 1.        , 1.        ,\n",
      "        1.        ],\n",
      "       [0.99999961, 0.9993145 , 0.98961962, ..., 1.        , 1.        ,\n",
      "        1.        ],\n",
      "       ...,\n",
      "       [0.99607833, 0.99607834, 0.99607842, ..., 0.98609374, 0.9947122 ,\n",
      "        0.99312949],\n",
      "       [0.96862755, 0.96932341, 0.98892229, ..., 1.        , 1.        ,\n",
      "        1.        ],\n",
      "       [0.96862755, 0.96932341, 0.98892229, ..., 1.        , 1.        ,\n",
      "        1.        ]]), 'target': array([ 0,  0,  0, ..., 27, 27, 27]), 'target_names': ['A', 'B', 'C', 'D', 'E', 'F', 'Fullstop', 'G', 'H', 'I', 'J', 'K', 'L', 'M', 'N', 'O', 'P', 'Q', 'R', 'S', 'semicolon', 'T', 'U', 'V', 'W', 'X', 'Y', 'Z'], 'images': array([[[0.9999999 , 0.99999991, 0.99999999, ..., 0.99829159,\n",
      "         0.99998814, 1.        ],\n",
      "        [0.99969468, 0.99971844, 0.99996404, ..., 0.99842457,\n",
      "         0.99998906, 1.        ],\n",
      "        [0.99654038, 0.99680966, 0.99959249, ..., 0.99979876,\n",
      "         0.9999986 , 1.        ],\n",
      "        ...,\n",
      "        [1.        , 1.        , 1.        , ..., 1.        ,\n",
      "         1.        , 1.        ],\n",
      "        [1.        , 1.        , 1.        , ..., 1.        ,\n",
      "         1.        , 1.        ],\n",
      "        [1.        , 1.        , 1.        , ..., 1.        ,\n",
      "         1.        , 1.        ]],\n",
      "\n",
      "       [[0.9999999 , 0.99999991, 0.99999999, ..., 0.99829159,\n",
      "         0.99998814, 1.        ],\n",
      "        [0.99969468, 0.99971844, 0.99996404, ..., 0.99842457,\n",
      "         0.99998906, 1.        ],\n",
      "        [0.99654038, 0.99680966, 0.99959249, ..., 0.99979876,\n",
      "         0.9999986 , 1.        ],\n",
      "        ...,\n",
      "        [1.        , 1.        , 1.        , ..., 1.        ,\n",
      "         1.        , 1.        ],\n",
      "        [1.        , 1.        , 1.        , ..., 1.        ,\n",
      "         1.        , 1.        ],\n",
      "        [1.        , 1.        , 1.        , ..., 1.        ,\n",
      "         1.        , 1.        ]],\n",
      "\n",
      "       [[0.99999961, 0.9993145 , 0.98961962, ..., 1.        ,\n",
      "         1.        , 1.        ],\n",
      "        [0.99907436, 0.9984062 , 0.98908999, ..., 1.        ,\n",
      "         1.        , 1.        ],\n",
      "        [0.98030109, 0.97994966, 0.97600996, ..., 1.        ,\n",
      "         1.        , 1.        ],\n",
      "        ...,\n",
      "        [0.90900156, 0.90885896, 0.90738527, ..., 1.        ,\n",
      "         1.        , 1.        ],\n",
      "        [0.88241349, 0.88208874, 0.87873261, ..., 1.        ,\n",
      "         1.        , 1.        ],\n",
      "        [0.8825137 , 0.88191   , 0.87567132, ..., 1.        ,\n",
      "         1.        , 1.        ]],\n",
      "\n",
      "       ...,\n",
      "\n",
      "       [[0.99607833, 0.99607834, 0.99607842, ..., 1.        ,\n",
      "         1.        , 1.        ],\n",
      "        [0.99577311, 0.99579687, 0.99604247, ..., 1.        ,\n",
      "         1.        , 1.        ],\n",
      "        [0.99261886, 0.99288814, 0.99567087, ..., 1.        ,\n",
      "         1.        , 1.        ],\n",
      "        ...,\n",
      "        [0.99557362, 0.99513541, 0.99060693, ..., 0.98799087,\n",
      "         0.99359379, 0.99270576],\n",
      "        [0.99218049, 0.99187433, 0.98871052, ..., 0.98610691,\n",
      "         0.99470444, 0.99312655],\n",
      "        [0.99215677, 0.99185153, 0.98869727, ..., 0.98609374,\n",
      "         0.9947122 , 0.99312949]],\n",
      "\n",
      "       [[0.96862755, 0.96932341, 0.98892229, ..., 1.        ,\n",
      "         1.        , 1.        ],\n",
      "        [0.96894353, 0.96966894, 0.98912646, ..., 1.        ,\n",
      "         1.        , 1.        ],\n",
      "        [0.98193931, 0.98221264, 0.99238263, ..., 1.        ,\n",
      "         1.        , 1.        ],\n",
      "        ...,\n",
      "        [0.95686284, 0.95771731, 0.98420384, ..., 1.        ,\n",
      "         1.        , 1.        ],\n",
      "        [0.95686284, 0.95771734, 0.98431569, ..., 1.        ,\n",
      "         1.        , 1.        ],\n",
      "        [0.95686284, 0.95771734, 0.98431648, ..., 1.        ,\n",
      "         1.        , 1.        ]],\n",
      "\n",
      "       [[0.96862755, 0.96932341, 0.98892229, ..., 1.        ,\n",
      "         1.        , 1.        ],\n",
      "        [0.96894353, 0.96966894, 0.98912646, ..., 1.        ,\n",
      "         1.        , 1.        ],\n",
      "        [0.98193931, 0.98221264, 0.99238263, ..., 1.        ,\n",
      "         1.        , 1.        ],\n",
      "        ...,\n",
      "        [0.95686284, 0.95771731, 0.98420384, ..., 1.        ,\n",
      "         1.        , 1.        ],\n",
      "        [0.95686284, 0.95771734, 0.98431569, ..., 1.        ,\n",
      "         1.        , 1.        ],\n",
      "        [0.95686284, 0.95771734, 0.98431648, ..., 1.        ,\n",
      "         1.        , 1.        ]]]), 'DESCR': 'A Braille image classification dataset'}\n"
     ]
    }
   ],
   "source": [
    "image_dataset = load_image_files(\"images/\")\n",
    "print(image_dataset)"
   ]
  },
  {
   "cell_type": "markdown",
   "metadata": {},
   "source": [
    "### Split data"
   ]
  },
  {
   "cell_type": "code",
   "execution_count": 6,
   "metadata": {},
   "outputs": [
    {
     "name": "stdout",
     "output_type": "stream",
     "text": [
      "['A', 'B', 'C', 'D', 'E', 'F', 'Fullstop', 'G', 'H', 'I', 'J', 'K', 'L', 'M', 'N', 'O', 'P', 'Q', 'R', 'S', 'semicolon', 'T', 'U', 'V', 'W', 'X', 'Y', 'Z']\n"
     ]
    }
   ],
   "source": [
    "X_train, X_test, y_train, y_test = train_test_split(\n",
    "    image_dataset.data, image_dataset.target, test_size=0.2,random_state=1)\n",
    "\n",
    "print(image_dataset.target_names)"
   ]
  },
  {
   "cell_type": "markdown",
   "metadata": {},
   "source": [
    "### Train data with parameter optimization"
   ]
  },
  {
   "cell_type": "code",
   "execution_count": 7,
   "metadata": {},
   "outputs": [],
   "source": [
    "param_grid = [\n",
    "  {'C': [1, 10, 100, 1000], 'kernel': ['linear']},\n",
    "  {'C': [1, 10, 100, 1000], 'gamma': ['auto'], 'kernel': ['rbf']},\n",
    "  {'C': [1, 10, 100, 1000], 'kernel': ['poly']},\n",
    " ]\n",
    "svc = svm.SVC()\n",
    "clf = GridSearchCV(svc, param_grid)"
   ]
  },
  {
   "cell_type": "code",
   "execution_count": 8,
   "metadata": {},
   "outputs": [
    {
     "name": "stdout",
     "output_type": "stream",
     "text": [
      "[[-0.98543278 -0.99072941 -1.10593909 ... -1.13837729 -1.13609145\n",
      "  -1.13547228]\n",
      " [ 0.67904019  0.67973521  0.68500101 ...  0.62235356  0.61817662\n",
      "   0.61784371]\n",
      " [ 0.58583043  0.58752574  0.60424086 ...  0.62235356  0.61817662\n",
      "   0.61784371]\n",
      " ...\n",
      " [ 0.67903854  0.67249673  0.46196835 ...  0.62235356  0.61817662\n",
      "   0.61784371]\n",
      " [ 0.53256701  0.53453531  0.56904488 ...  0.60870448  0.60457764\n",
      "   0.60425211]\n",
      " [ 0.57251466  0.57449862  0.60864798 ...  0.50399179  0.53183316\n",
      "   0.52607352]]\n",
      "[[ 0.572514    0.5755311   0.64771113 ...  0.43172292  0.56207146\n",
      "   0.56856333]\n",
      " [ 0.63909155  0.63744369  0.61045543 ...  0.61640728  0.61813549\n",
      "   0.61784371]\n",
      " [ 0.572514    0.57553112  0.64771103 ...  0.62235356  0.61817662\n",
      "   0.61784371]\n",
      " ...\n",
      " [ 0.67903953  0.67973455  0.68500036 ...  0.62235356  0.61817662\n",
      "   0.61784371]\n",
      " [-0.91885358 -0.92111225 -0.9340524  ... -1.02918468 -1.02729963\n",
      "  -1.0267395 ]\n",
      " [ 0.67903953  0.67766089  0.6617089  ...  0.62235356  0.61817662\n",
      "   0.61784371]]\n"
     ]
    }
   ],
   "source": [
    "sc = StandardScaler()\n",
    "X_train = sc.fit_transform(X_train)\n",
    "print(X_train)\n",
    "X_test = sc.transform(X_test)\n",
    "print(X_test)\n",
    "\n",
    "# Determine transformed features\n",
    "pca = PCA()\n",
    "X_train_pca = pca.fit_transform(X_train)\n",
    "X_test_pca = pca.transform(X_test)"
   ]
  },
  {
   "cell_type": "code",
   "execution_count": 9,
   "metadata": {},
   "outputs": [],
   "source": [
    "clf.fit(X_train_pca, y_train)"
   ]
  },
  {
   "cell_type": "markdown",
   "metadata": {},
   "source": [
    "### Predict"
   ]
  },
  {
   "cell_type": "code",
   "execution_count": 10,
   "metadata": {},
   "outputs": [
    {
     "name": "stdout",
     "output_type": "stream",
     "text": [
      "[19  2 25  9 13 16 24  4  7  9 18 15  4 21 19  9 24 22 10 18  8 17  1 13\n",
      "  8 23  4 23 13  2  4  7 24  1 25  1 21 16  5 25 24 20 15  0 22 25  7 11\n",
      "  7 20 26  9 18 23 20 26  7 13 11  5 27 15 21 15  0 17 21 24 12 25 23 13\n",
      "  9  2  3 24  7 12  3 15 11 13  8 11 12 19 16  8 22 12 18  2  2 19  6  1\n",
      " 16 18 14 23 22  7 17  6 25 17  3 19  0  4 10  8 26  9  5 23 24 24 12 21\n",
      " 11 24  5  8 11 24 10  2 25 14 18 16 23 10 13 27 12 10 13  9  1 19 19  4\n",
      "  0  7 17 11 17 10 24 12 13 16  5 23 18 15 26  1  0  0 18  4 21  6 13 10\n",
      " 22  8 21  2 13  9 26 20  5 17 24  9  0  8 19 23  5 12  0  1  4 15 10  6\n",
      "  7  2  5 27 19 10 13  4 27 22  5 15  1 20 19 11 26  3  5 15 16 27 23 11\n",
      " 27 19 24 18 23 12 16 18 23 26  5 21 26 15 17 11 12 26  9 20 18 23  7  1\n",
      "  2 10  2 23  1 10 18 27 17 13 13 25 19  3 14 22 20  8  8  3  4  9 22 16\n",
      " 25 14  8 11 18  7  6  7  3  3 24  2  7 26  0 23  8 16 17  7 11 27  6  3\n",
      " 15 26 15 27  0 16 13  0  7 16 19  2 21 12 19  3 14  9 12  1 23  9 15  4\n",
      " 16 15 11 25 21 12  8  5  2 19  8 25 22 26 16 17 13  8  7 26 26 16 14 19\n",
      " 14  5  6  7  9 10 23 19 25 14 12 24 19 12 25 12 21 11  9  7 14  6  8 20\n",
      " 10  2  8  1 23  4 21  4 14 19 20  9 23 25  2 16 17 25 23 10 25 18 27 11\n",
      "  7 24 26 15 10 23  0  9  5 12 12 14  4  2  3  9  7 20 19 22 23  8 24 14\n",
      " 16  1  5 27 17 22  2  4 10 21 13 17 13 14  9  5  4 15  0  3  4  7 16  8\n",
      "  0  7 12 23 24  4]\n",
      "[19  2 25  9 13 16 24  4  7  9 18 15  3 21 19  9 10 22 10 18  8 17  1 25\n",
      "  8 23  4 23 13  2  4  7 24  1 25  1 21 16  5 25 24 20 15  0 22 25  7 11\n",
      "  7 20 26  9 18 23 20 26  7 13 11  5 27 15 21 15  0 21 21 24 12 25 23 13\n",
      "  9 11  3 24  7 12  3 15 11 25  8 11 12 19 16  8 22 12 18  2  2 19  6  1\n",
      " 16 18 14 23 22  7 17  6 25 17  3 19  0  4 10  8 26  9  5 23 26 24 12 21\n",
      " 11 24  5  8 11 24 10  2 25 14 18 16 23 10 13 27 12 10 13  9  1 19 19  4\n",
      "  0  7 21 11 17 10 10  1 13 16  5 23 18 15 26  1  0  0 18  4 21  6 13 10\n",
      " 22  8 21  2 13  9 26 20  5 17 24  9  0  8 19 23  5 12  0  1  4 14 10  6\n",
      "  7  2  5 27 19 10 13  4 27 22  5 15  1 20 19 11 26  3  5 15 16 27 23 11\n",
      " 27 19 24 18 23  1 16 18 23 26  5 21 26 18 17 11 12 26  9 20 18 23  7  1\n",
      "  2 10  2 23  1 10 18 27 17 13 13 25 19  3 14 22 20  8  8  3  4  9 22 16\n",
      " 25 14  8 11 18  7  6  7  3  3 24  2  7 26  0 23  8 12 17  7 11 27  6  3\n",
      " 15 26 15 27  0 16 13  0  7 16 19  2 21 12 19  3 14  9 12  1 23  9 15  4\n",
      " 16 15 11 25 21 12  8  5  2 19  8 25 22 27 16 17 13  8  7 26 26 16 14 19\n",
      " 15  5  6  7  9 10 23 19 25 15 12 24 19 12 25 12 21 11  9  7 14  6  8 20\n",
      " 10  2  8  1 23  4 21  4 14 19 20  9 23 25  2 16 17 25 23 10 25 18 27 11\n",
      "  7 24 26 15 10 23  0  9  5 12 12 14  4  2  3  9  7 20 19 22 23  8 24 14\n",
      " 16  1  5 27 17 22  2  4 10 21 13 17 13 14  9 12  4 15  0  3  4  7 16  8\n",
      "  0  2 12 23 24  4]\n"
     ]
    }
   ],
   "source": [
    "print(y_test)\n",
    "y_pred = clf.predict(X_test_pca)\n",
    "print(y_pred)"
   ]
  },
  {
   "cell_type": "code",
   "execution_count": 11,
   "metadata": {},
   "outputs": [
    {
     "name": "stdout",
     "output_type": "stream",
     "text": [
      "Accuracy: 0.95662100456621\n",
      "Precision: 0.9593238984506107\n",
      "Recall: 0.95662100456621\n",
      "Classification report for - \n",
      "GridSearchCV(estimator=SVC(),\n",
      "             param_grid=[{'C': [1, 10, 100, 1000], 'kernel': ['linear']},\n",
      "                         {'C': [1, 10, 100, 1000], 'gamma': ['auto'],\n",
      "                          'kernel': ['rbf']},\n",
      "                         {'C': [1, 10, 100, 1000], 'kernel': ['poly']}]):\n",
      "              precision    recall  f1-score   support\n",
      "\n",
      "           0       1.00      1.00      1.00        14\n",
      "           1       0.87      1.00      0.93        13\n",
      "           2       0.94      0.94      0.94        17\n",
      "           3       0.92      1.00      0.96        12\n",
      "           4       1.00      0.94      0.97        18\n",
      "           5       1.00      0.94      0.97        16\n",
      "           6       1.00      1.00      1.00         8\n",
      "           7       1.00      0.95      0.98        22\n",
      "           8       1.00      1.00      1.00        19\n",
      "           9       1.00      1.00      1.00        19\n",
      "          10       0.89      1.00      0.94        16\n",
      "          11       0.94      1.00      0.97        15\n",
      "          12       0.89      0.89      0.89        19\n",
      "          13       1.00      0.89      0.94        18\n",
      "          14       0.92      0.85      0.88        13\n",
      "          15       0.88      0.88      0.88        16\n",
      "          16       1.00      0.94      0.97        18\n",
      "          17       1.00      0.86      0.92        14\n",
      "          18       0.93      1.00      0.97        14\n",
      "          19       1.00      1.00      1.00        20\n",
      "          20       1.00      1.00      1.00        10\n",
      "          21       0.87      1.00      0.93        13\n",
      "          22       1.00      1.00      1.00        11\n",
      "          23       1.00      1.00      1.00        23\n",
      "          24       1.00      0.83      0.91        18\n",
      "          25       0.89      1.00      0.94        16\n",
      "          26       0.93      0.93      0.93        15\n",
      "          27       0.92      1.00      0.96        11\n",
      "\n",
      "    accuracy                           0.96       438\n",
      "   macro avg       0.96      0.96      0.96       438\n",
      "weighted avg       0.96      0.96      0.96       438\n",
      "\n",
      "\n"
     ]
    }
   ],
   "source": [
    "acc_svm = print(\"Accuracy:\",metrics.accuracy_score(y_test, y_pred))\n",
    "\n",
    "# Model Precision: what percentage of positive tuples are labeled as such?\n",
    "print(\"Precision:\",metrics.precision_score(y_test, y_pred, average=\"weighted\"))\n",
    "\n",
    "# Model Recall: what percentage of positive tuples are labelled as such?\n",
    "print(\"Recall:\",metrics.recall_score(y_test, y_pred, average=\"weighted\"))\n",
    "\n",
    "print(\"Classification report for - \\n{}:\\n{}\\n\".format(\n",
    "    clf, metrics.classification_report(y_test, y_pred)))"
   ]
  },
  {
   "cell_type": "code",
   "execution_count": 18,
   "metadata": {},
   "outputs": [
    {
     "name": "stdout",
     "output_type": "stream",
     "text": [
      "[[15  0  0  0  0  0  0  0  0  0  0  0  0  0  0  0  0  0  0  0  0  0  0  0\n",
      "   0  0  0  0]\n",
      " [ 1 13  0  0  0  0  0  0  0  0  0  0  0  0  0  0  0  0  0  0  0  0  0  0\n",
      "   0  0  0  0]\n",
      " [ 0  0 18  0  0  0  0  0  0  0  0  1  0  0  0  0  0  0  0  0  0  0  0  0\n",
      "   0  0  0  0]\n",
      " [ 0  0  0  9  0  0  0  0  0  0  0  0  0  0  0  0  0  0  0  0  0  0  0  0\n",
      "   0  0  0  0]\n",
      " [ 0  0  0  0 20  0  0  0  0  2  0  0  0  0  0  0  0  0  0  0  0  0  0  0\n",
      "   0  0  0  0]\n",
      " [ 0  0  0  0  0 14  0  0  0  0  0  0  0  0  0  0  0  0  0  0  0  0  0  0\n",
      "   0  0  0  0]\n",
      " [ 0  0  0  0  0  0  8  0  0  0  0  0  0  0  0  0  0  0  0  0  0  0  0  0\n",
      "   0  0  0  0]\n",
      " [ 0  0  0  0  0  0  0 18  0  0  0  0  0  0  0  0  0  0  0  0  0  0  0  0\n",
      "   0  0  0  0]\n",
      " [ 0  0  0  0  0  0  0  0 12  0  0  0  0  0  0  0  0  0  1  0  0  0  0  0\n",
      "   0  0  0  0]\n",
      " [ 0  0  0  0  0  0  0  0  0 20  0  0  0  0  0  0  0  0  0  0  0  0  0  0\n",
      "   0  0  0  0]\n",
      " [ 0  0  0  0  0  0  0  0  0  1 18  0  0  0  0  0  0  0  0  0  0  1  0  0\n",
      "   0  0  0  0]\n",
      " [ 1  0  0  0  0  0  0  0  0  0  0 14  0  0  0  0  0  0  0  0  0  0  2  0\n",
      "   0  0  0  0]\n",
      " [ 0  0  0  0  0  0  0  0  0  0  0  2 12  0  0  0  0  0  0  0  0  0  0  1\n",
      "   0  0  0  0]\n",
      " [ 0  0  0  0  0  0  0  0  0  0  0  0  0 10  0  0  0  0  0  0  0  0  0  0\n",
      "   0  0  0  0]\n",
      " [ 0  0  0  0  0  0  0  0  0  0  0  0  0  0 15  1  0  0  0  1  0  0  0  0\n",
      "   0  0  0  0]\n",
      " [ 0  0  0  2  0  0  0  0  0  0  0  0  0  0  3 13  0  0  0  0  0  0  0  0\n",
      "   0  0  0  0]\n",
      " [ 0  0  0  0  0  0  0  0  0  0  0  0  0  0  0  0 17  0  0  0  0  0  0  0\n",
      "   0  0  0  0]\n",
      " [ 0  0  0  0  0  0  0  0  0  0  0  0  0  0  1  0  0 14  3  0  0  2  0  0\n",
      "   0  0  0  0]\n",
      " [ 0  0  0  0  0  0  0  0  0  0  0  0  0  0  0  2  0  2 13  0  0  0  0  0\n",
      "   0  0  0  0]\n",
      " [ 0  0  0  0  0  0  0  0  0  0  0  0  0  0  0  0  0  0  0 24  0  0  0  0\n",
      "   0  0  0  0]\n",
      " [ 0  0  0  0  0  0  0  0  0  0  0  0  0  0  0  0  0  0  0  0 11  0  0  0\n",
      "   0  0  0  0]\n",
      " [ 0  0  0  0  0  0  0  0  0  0  0  0  0  0  1  0  2  1  0  0  0 12  0  0\n",
      "   0  0  0  0]\n",
      " [ 0  0  0  0  0  0  0  0  0  0  0  0  0  0  0  0  0  0  0  0  0  0 13  0\n",
      "   0  0  0  0]\n",
      " [ 0  0  0  0  0  2  0  0  0  0  0  0  0  0  0  0  0  0  0  0  0  0  0 14\n",
      "   0  0  0  0]\n",
      " [ 0  0  0  0  0  0  0  0  0  0  0  0  0  0  0  0  0  0  0  0  0  0  0  0\n",
      "  13  0  0  1]\n",
      " [ 0  0  0  0  0  0  0  0  0  0  0  0  0  0  0  0  0  0  0  0  0  0  0  2\n",
      "   0 11  0  0]\n",
      " [ 0  0  0  0  0  0  0  0  0  0  0  0  0  0  0  0  0  0  0  0  0  0  0  0\n",
      "   0  0 11  0]\n",
      " [ 0  0  0  0  0  0  0  0  0  0  0  0  0  0  0  0  0  0  0  0  0  0  0  0\n",
      "   0  0  0 17]]\n"
     ]
    }
   ],
   "source": [
    "cm_svm = print(metrics.confusion_matrix(y_test, y_pred))"
   ]
  },
  {
   "attachments": {},
   "cell_type": "markdown",
   "metadata": {},
   "source": [
    "### Training Random Forest model"
   ]
  },
  {
   "cell_type": "code",
   "execution_count": 18,
   "metadata": {},
   "outputs": [],
   "source": [
    "from sklearn.ensemble import RandomForestClassifier\n",
    "model=RandomForestClassifier(max_depth=10, max_features='sqrt', n_estimators=200, oob_score= False, random_state=42,min_samples_leaf=5)\n",
    "model.fit(X_train_pca, y_train)\n",
    "y_pred_rf=model.predict(X_test_pca)"
   ]
  },
  {
   "cell_type": "code",
   "execution_count": 19,
   "metadata": {},
   "outputs": [
    {
     "name": "stdout",
     "output_type": "stream",
     "text": [
      "Accuracy: 0.9018264840182648\n",
      "Precision: 0.917121737944557\n",
      "Recall: 0.9018264840182648\n",
      "Classification report for - \n",
      "RandomForestClassifier(max_depth=10, min_samples_leaf=5, n_estimators=200,\n",
      "                       random_state=42):\n",
      "              precision    recall  f1-score   support\n",
      "\n",
      "           0       0.88      1.00      0.93        14\n",
      "           1       0.67      0.92      0.77        13\n",
      "           2       0.84      0.94      0.89        17\n",
      "           3       0.71      0.83      0.77        12\n",
      "           4       0.76      0.89      0.82        18\n",
      "           5       1.00      0.94      0.97        16\n",
      "           6       1.00      1.00      1.00         8\n",
      "           7       0.95      0.86      0.90        22\n",
      "           8       0.95      0.95      0.95        19\n",
      "           9       1.00      0.84      0.91        19\n",
      "          10       1.00      1.00      1.00        16\n",
      "          11       0.92      0.73      0.81        15\n",
      "          12       0.85      0.89      0.87        19\n",
      "          13       1.00      0.89      0.94        18\n",
      "          14       0.92      0.85      0.88        13\n",
      "          15       1.00      0.75      0.86        16\n",
      "          16       0.81      0.94      0.87        18\n",
      "          17       1.00      0.71      0.83        14\n",
      "          18       0.93      1.00      0.97        14\n",
      "          19       1.00      0.95      0.97        20\n",
      "          20       1.00      1.00      1.00        10\n",
      "          21       0.72      1.00      0.84        13\n",
      "          22       1.00      1.00      1.00        11\n",
      "          23       1.00      0.96      0.98        23\n",
      "          24       0.94      0.83      0.88        18\n",
      "          25       1.00      0.75      0.86        16\n",
      "          26       1.00      0.93      0.97        15\n",
      "          27       0.69      1.00      0.81        11\n",
      "\n",
      "    accuracy                           0.90       438\n",
      "   macro avg       0.91      0.91      0.90       438\n",
      "weighted avg       0.92      0.90      0.90       438\n",
      "\n",
      "\n"
     ]
    }
   ],
   "source": [
    "acc_rf = print(\"Accuracy:\",metrics.accuracy_score(y_test, y_pred_rf))\n",
    "\n",
    "# Model Precision: what percentage of positive tuples are labeled as such?\n",
    "print(\"Precision:\",metrics.precision_score(y_test, y_pred_rf, average=\"weighted\"))\n",
    "\n",
    "# Model Recall: what percentage of positive tuples are labelled as such?\n",
    "print(\"Recall:\",metrics.recall_score(y_test, y_pred_rf, average=\"weighted\"))\n",
    "\n",
    "print(\"Classification report for - \\n{}:\\n{}\\n\".format(\n",
    "    model, metrics.classification_report(y_test, y_pred_rf)))"
   ]
  },
  {
   "cell_type": "markdown",
   "metadata": {},
   "source": [
    "### Report"
   ]
  },
  {
   "cell_type": "code",
   "execution_count": 13,
   "metadata": {},
   "outputs": [
    {
     "name": "stdout",
     "output_type": "stream",
     "text": [
      "[[12  0  0  0  0  0  0  0  0  0  0  0  3  0  0  0  0  0  0  0  0  0  0  0\n",
      "   0  0  0  0]\n",
      " [ 1 12  0  1  0  0  0  0  0  0  0  0  0  0  0  0  0  0  0  0  0  0  0  0\n",
      "   0  0  0  0]\n",
      " [ 2  0 16  0  0  0  0  0  0  0  0  0  0  0  0  0  0  0  1  0  0  0  0  0\n",
      "   0  0  0  0]\n",
      " [ 0  0  0  9  0  0  0  0  0  0  0  0  0  0  0  0  0  0  0  0  0  0  0  0\n",
      "   0  0  0  0]\n",
      " [ 0  0  0  0 20  0  0  0  0  0  0  0  0  0  0  0  0  0  0  2  0  0  0  0\n",
      "   0  0  0  0]\n",
      " [ 0  0  0  0  0 14  0  0  0  0  0  0  0  0  0  0  0  0  0  0  0  0  0  0\n",
      "   0  0  0  0]\n",
      " [ 0  0  0  0  0  0  8  0  0  0  0  0  0  0  0  0  0  0  0  0  0  0  0  0\n",
      "   0  0  0  0]\n",
      " [ 0  0  0  0  0  0  0 18  0  0  0  0  0  0  0  0  0  0  0  0  0  0  0  0\n",
      "   0  0  0  0]\n",
      " [ 0  0  0  0  0  0  0  0 12  0  0  0  0  0  0  0  0  0  1  0  0  0  0  0\n",
      "   0  0  0  0]\n",
      " [ 2  0  0  0  0  1  0  0  0 17  0  0  0  0  0  0  0  0  0  0  0  0  0  0\n",
      "   0  0  0  0]\n",
      " [ 0  0  0  0  0  2  0  0  1  0 14  0  0  0  0  0  0  1  0  0  0  0  0  0\n",
      "   2  0  0  0]\n",
      " [ 1  0  0  0  0  1  0  0  0  0  0 15  0  0  0  0  0  0  0  0  0  0  0  0\n",
      "   0  0  0  0]\n",
      " [ 0  0  0  0  0  0  0  0  0  0  0  0 12  2  0  0  0  0  0  0  0  0  1  0\n",
      "   0  0  0  0]\n",
      " [ 0  0  0  0  0  0  0  0  0  0  0  0  0 10  0  0  0  0  0  0  0  0  0  0\n",
      "   0  0  0  0]\n",
      " [ 0  0  0  0  0  1  0  0  0  0  0  0  0  0 13  0  0  0  1  0  0  1  0  0\n",
      "   0  0  1  0]\n",
      " [ 1  0  0  1  0  0  0  0  0  0  0  0  0  0  1 13  2  0  0  0  0  0  0  0\n",
      "   0  0  0  0]\n",
      " [ 0  0  0  0  0  1  0  0  0  1  0  0  1  0  0  0 14  0  0  0  0  0  0  0\n",
      "   0  0  0  0]\n",
      " [ 0  1  0  0  0  2  0  0  0  0  0  0  0  0  0  0  0 14  3  0  0  0  0  0\n",
      "   0  0  0  0]\n",
      " [ 0  0  0  0  0  0  0  0  0  0  0  0  0  0  0  0  0  0 13  0  0  0  0  0\n",
      "   1  2  0  1]\n",
      " [ 0  0  0  0  0  0  0  0  0  0  0  0  2  0  0  0  0  0  0 22  0  0  0  0\n",
      "   0  0  0  0]\n",
      " [ 0  0  0  0  0  0  0  0  0  0  0  0  0  0  0  0  0  0  0  0 11  0  0  0\n",
      "   0  0  0  0]\n",
      " [ 0  0  0  2  0  0  0  0  0  0  0  0  1  0  0  0  1  0  0  1  0 11  0  0\n",
      "   0  0  0  0]\n",
      " [ 0  0  0  0  0  0  0  0  0  0  0  0  0  0  0  0  0  0  0  0  0  0 13  0\n",
      "   0  0  0  0]\n",
      " [ 0  0  0  0  0  0  0  0  0  0  0  0  0  0  0  0  0  2  0  0  0  0  0 13\n",
      "   0  0  1  0]\n",
      " [ 0  0  0  0  0  0  0  0  0  0  0  0  1  0  0  1  0  0  0  0  0  0  0  0\n",
      "  12  0  0  0]\n",
      " [ 0  0  0  0  0  0  0  0  0  0  0  0  1  1  0  0  2  0  0  0  0  0  0  0\n",
      "   0  9  0  0]\n",
      " [ 0  0  0  0  0  0  0  0  0  0  0  0  0  0  0  0  0  0  0  0  0  0  0  0\n",
      "   0  0 11  0]\n",
      " [ 0  0  0  0  0  0  0  0  0  0  1  0  0  0  1  0  0  0  0  0  0  0  2  0\n",
      "   0  0  0 13]]\n"
     ]
    }
   ],
   "source": [
    "cm_rf = print(metrics.confusion_matrix(y_test, y_pred_rf))"
   ]
  },
  {
   "attachments": {},
   "cell_type": "markdown",
   "metadata": {},
   "source": [
    "### Training KNN model"
   ]
  },
  {
   "cell_type": "code",
   "execution_count": 56,
   "metadata": {},
   "outputs": [],
   "source": [
    "from sklearn.neighbors import KNeighborsClassifier \n",
    "classifier= KNeighborsClassifier(n_neighbors=3, weights = \"uniform\",metric='minkowski', p=1)  \n",
    "classifier.fit(X_train_pca, y_train)\n",
    "y_pred_knn= classifier.predict(X_test_pca) "
   ]
  },
  {
   "cell_type": "code",
   "execution_count": 52,
   "metadata": {},
   "outputs": [
    {
     "name": "stdout",
     "output_type": "stream",
     "text": [
      "Accuracy: 0.7420091324200914\n",
      "Precision: 0.7964655766831431\n"
     ]
    }
   ],
   "source": [
    "from sklearn import metrics\n",
    "acc_knn = print(\"Accuracy:\",metrics.accuracy_score(y_test, y_pred_knn))\n",
    "\n",
    "# Model Precision: what percentage of positive tuples are labeled as such?\n",
    "print(\"Precision:\",metrics.precision_score(y_test, y_pred_knn, average=\"weighted\"))"
   ]
  },
  {
   "cell_type": "code",
   "execution_count": 16,
   "metadata": {},
   "outputs": [
    {
     "name": "stdout",
     "output_type": "stream",
     "text": [
      "[[12  0  0  0  0  0  0  0  0  0  0  3  0  0  0  0  0  0  0  0  0  0  0  0\n",
      "   0  0  0  0]\n",
      " [ 4 10  0  0  0  0  0  0  0  0  0  0  0  0  0  0  0  0  0  0  0  0  0  0\n",
      "   0  0  0  0]\n",
      " [ 0  0 14  2  1  0  0  0  0  2  0  0  0  0  0  0  0  0  0  0  0  0  0  0\n",
      "   0  0  0  0]\n",
      " [ 0  0  4  5  0  0  0  0  0  0  0  0  0  0  0  0  0  0  0  0  0  0  0  0\n",
      "   0  0  0  0]\n",
      " [ 1  0  0  0 19  0  0  0  0  2  0  0  0  0  0  0  0  0  0  0  0  0  0  0\n",
      "   0  0  0  0]\n",
      " [ 0  0  0  0  0 11  0  0  0  2  0  0  1  0  0  0  0  0  0  0  0  0  0  0\n",
      "   0  0  0  0]\n",
      " [ 0  0  0  0  0  0  6  0  0  0  0  0  0  0  0  0  0  0  0  0  2  0  0  0\n",
      "   0  0  0  0]\n",
      " [ 0  0  2  0  0  0  0 16  0  0  0  0  0  0  0  0  0  0  0  0  0  0  0  0\n",
      "   0  0  0  0]\n",
      " [ 2  1  0  0  0  1  0  0  8  0  1  0  0  0  0  0  0  0  0  0  0  0  0  0\n",
      "   0  0  0  0]\n",
      " [ 2  0  0  0  0  1  0  0  0 15  2  0  0  0  0  0  0  0  0  0  0  0  0  0\n",
      "   0  0  0  0]\n",
      " [ 0  0  0  0  0  2  0  0  1  3 14  0  0  0  0  0  0  0  0  0  0  0  0  0\n",
      "   0  0  0  0]\n",
      " [ 8  0  0  0  0  0  0  0  0  0  0  9  0  0  0  0  0  0  0  0  0  0  0  0\n",
      "   0  0  0  0]\n",
      " [ 0  0  0  0  0  0  0  0  0  0  0  1 11  2  0  0  1  0  0  0  0  0  0  0\n",
      "   0  0  0  0]\n",
      " [ 0  0  0  0  0  0  0  0  0  0  0  0  0 10  0  0  0  0  0  0  0  0  0  0\n",
      "   0  0  0  0]\n",
      " [ 1  0  0  0  0  0  0  0  0  0  0  0  0  0 12  2  0  2  0  0  0  0  0  0\n",
      "   0  0  0  0]\n",
      " [ 1  0  0  1  0  0  0  0  0  0  0  0  2  0  1 12  0  0  1  0  0  0  0  0\n",
      "   0  0  0  0]\n",
      " [ 0  0  0  0  0  3  0  0  0  0  0  0  2  2  0  0 10  0  0  0  0  0  0  0\n",
      "   0  0  0  0]\n",
      " [ 0  0  0  1  0  0  0  1  0  1  0  0  0  0  0  2  0 10  3  1  0  1  0  0\n",
      "   0  0  0  0]\n",
      " [ 0  2  0  0  0  0  0  0  0  0  0  1  0  0  1  2  0  2  9  0  0  0  0  0\n",
      "   0  0  0  0]\n",
      " [ 1  1  0  0  0  0  0  0  0  3  0  0  0  0  0  0  0  0  0 19  0  0  0  0\n",
      "   0  0  0  0]\n",
      " [ 0  0  0  0  0  0  0  0  0  0  0  0  0  0  0  0  0  0  0  0 11  0  0  0\n",
      "   0  0  0  0]\n",
      " [ 2  0  0  0  1  0  0  0  0  0  2  0  0  0  0  0  1  1  0  1  0  8  0  0\n",
      "   0  0  0  0]\n",
      " [ 2  0  0  0  0  0  0  0  0  0  0  1  0  0  0  0  0  0  0  0  0  0 10  0\n",
      "   0  0  0  0]\n",
      " [ 5  0  0  0  0  1  0  0  0  0  0  0  0  0  0  0  0  0  0  0  0  0  0 10\n",
      "   0  0  0  0]\n",
      " [ 0  0  0  0  0  0  0  0  0  0  1  0  0  0  0  0  0  0  0  0  0  0  0  0\n",
      "  11  0  1  1]\n",
      " [ 4  0  0  0  0  0  0  0  0  0  0  0  0  0  0  0  1  0  0  0  0  0  0  0\n",
      "   0  7  1  0]\n",
      " [ 0  0  0  0  0  0  0  0  0  0  0  0  1  1  0  0  0  0  0  0  0  0  0  0\n",
      "   0  1  8  0]\n",
      " [ 1  0  0  0  0  0  0  0  0  0  0  1  0  0  0  0  0  0  0  0  0  0  0  0\n",
      "   0  0  0 15]]\n"
     ]
    }
   ],
   "source": [
    "cm_knn = print(metrics.confusion_matrix(y_test, y_pred_knn))"
   ]
  },
  {
   "attachments": {},
   "cell_type": "markdown",
   "metadata": {},
   "source": [
    "### Accuracy of the three Models"
   ]
  },
  {
   "cell_type": "code",
   "execution_count": 53,
   "metadata": {},
   "outputs": [
    {
     "name": "stdout",
     "output_type": "stream",
     "text": [
      "Accuracy of Support vector machine: 0.95662100456621\n",
      "Accuracy of Randam Forest: 0.9018264840182648\n",
      "Accuracy of K-Nearest neighbor: 0.7420091324200914\n"
     ]
    }
   ],
   "source": [
    "acc_svm = print(\"Accuracy of Support vector machine:\",metrics.accuracy_score(y_test, y_pred))\n",
    "acc_rf = print(\"Accuracy of Randam Forest:\",metrics.accuracy_score(y_test, y_pred_rf))\n",
    "acc_knn = print(\"Accuracy of K-Nearest neighbor:\",metrics.accuracy_score(y_test, y_pred_knn))"
   ]
  },
  {
   "attachments": {},
   "cell_type": "markdown",
   "metadata": {},
   "source": [
    "### Comparison of Accuracy scores of the Three models"
   ]
  },
  {
   "cell_type": "code",
   "execution_count": 54,
   "metadata": {},
   "outputs": [
    {
     "data": {
      "image/png": "[encoded data removed]",
      "text/plain": [
       "<Figure size 640x480 with 1 Axes>"
      ]
     },
     "metadata": {},
     "output_type": "display_data"
    }
   ],
   "source": [
    "%matplotlib inline\n",
    "\n",
    "import matplotlib.pyplot as plt\n",
    "import seaborn as sns\n",
    "models = ['SVM', 'RF', 'KNN']\n",
    "accuracy_scores = [0.95, 0.90, 0.74]\n",
    "sns.barplot(x=models, y=accuracy_scores)\n",
    "plt.xlabel('Models')\n",
    "plt.ylabel('Accuracy Score')\n",
    "plt.title('Comparison of Accuracy Scores for Three Models')\n",
    "plt.show()\n"
   ]
  }
 ],
 "metadata": {
  "kernelspec": {
   "display_name": "Python 3",
   "language": "python",
   "name": "python3"
  },
  "language_info": {
   "codemirror_mode": {
    "name": "ipython",
    "version": 3
   },
   "file_extension": ".py",
   "mimetype": "text/x-python",
   "name": "python",
   "nbconvert_exporter": "python",
   "pygments_lexer": "ipython3",
   "version": "3.10.5"
  },
  "vscode": {
   "interpreter": {
    "hash": "a9cff5a362bc38ef45d817ae74b1af54d6a076e3d773891282bce078b815ba34"
   }
  }
 },
 "nbformat": 4,
 "nbformat_minor": 2
}
